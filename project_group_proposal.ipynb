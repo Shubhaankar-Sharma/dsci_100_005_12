{
 "cells": [
  {
   "cell_type": "markdown",
   "id": "8242107f-19bd-43a6-8225-17c21ad16629",
   "metadata": {},
   "source": [
    "# Title\n",
    "\n",
    "\n",
    "## Introduction\n",
    "\n",
    "---\n",
    "\n",
    "intro text here\n",
    "\n",
    "---\n",
    "\n",
    "--\n",
    "\n",
    "**Question we're asking**\n",
    "\n",
    "--"
   ]
  },
  {
   "cell_type": "markdown",
   "id": "d5fd3977-8f8b-4633-bc20-5d15335302c2",
   "metadata": {},
   "source": [
    "## Preliminary exploratory data analysis"
   ]
  },
  {
   "cell_type": "markdown",
   "id": "8d46b87c-e15f-4948-85b4-8325350ac8b8",
   "metadata": {},
   "source": [
    "#### Loading and Cleaning the dataset"
   ]
  },
  {
   "cell_type": "code",
   "execution_count": 35,
   "id": "1b0d9e4f-2749-48e7-ae56-17fd8327f071",
   "metadata": {},
   "outputs": [],
   "source": [
    "library(tidyverse)\n",
    "# library(magrittr)\n",
    "# library(janitor)\n",
    "library(dplyr)"
   ]
  },
  {
   "cell_type": "code",
   "execution_count": 44,
   "id": "301bcffa-b2f7-4cba-a01a-2c478badd4bc",
   "metadata": {},
   "outputs": [
    {
     "name": "stderr",
     "output_type": "stream",
     "text": [
      "\u001b[1mRows: \u001b[22m\u001b[34m32561\u001b[39m \u001b[1mColumns: \u001b[22m\u001b[34m15\u001b[39m\n",
      "\u001b[36m──\u001b[39m \u001b[1mColumn specification\u001b[22m \u001b[36m────────────────────────────────────────────────────────\u001b[39m\n",
      "\u001b[1mDelimiter:\u001b[22m \",\"\n",
      "\u001b[31mchr\u001b[39m (9): workclass, education, marital-status, occupation, relationship, rac...\n",
      "\u001b[32mdbl\u001b[39m (6): age, fnlwgt, education-num, capital-gain, capital-loss, hours-per-week\n",
      "\n",
      "\u001b[36mℹ\u001b[39m Use `spec()` to retrieve the full column specification for this data.\n",
      "\u001b[36mℹ\u001b[39m Specify the column types or set `show_col_types = FALSE` to quiet this message.\n"
     ]
    },
    {
     "data": {
      "text/html": [
       "<table class=\"dataframe\">\n",
       "<caption>A tibble: 6 × 15</caption>\n",
       "<thead>\n",
       "\t<tr><th scope=col>age</th><th scope=col>workclass</th><th scope=col>fnlwgt</th><th scope=col>education</th><th scope=col>education-num</th><th scope=col>marital-status</th><th scope=col>occupation</th><th scope=col>relationship</th><th scope=col>race</th><th scope=col>sex</th><th scope=col>capital-gain</th><th scope=col>capital-loss</th><th scope=col>hours-per-week</th><th scope=col>native-country</th><th scope=col>X15</th></tr>\n",
       "\t<tr><th scope=col>&lt;dbl&gt;</th><th scope=col>&lt;chr&gt;</th><th scope=col>&lt;dbl&gt;</th><th scope=col>&lt;chr&gt;</th><th scope=col>&lt;dbl&gt;</th><th scope=col>&lt;chr&gt;</th><th scope=col>&lt;chr&gt;</th><th scope=col>&lt;chr&gt;</th><th scope=col>&lt;chr&gt;</th><th scope=col>&lt;chr&gt;</th><th scope=col>&lt;dbl&gt;</th><th scope=col>&lt;dbl&gt;</th><th scope=col>&lt;dbl&gt;</th><th scope=col>&lt;chr&gt;</th><th scope=col>&lt;chr&gt;</th></tr>\n",
       "</thead>\n",
       "<tbody>\n",
       "\t<tr><td>39</td><td><span style=white-space:pre-wrap>State-gov       </span></td><td> 77516</td><td>Bachelors</td><td>13</td><td><span style=white-space:pre-wrap>Never-married     </span></td><td><span style=white-space:pre-wrap>Adm-clerical     </span></td><td>Not-in-family</td><td>White</td><td><span style=white-space:pre-wrap>Male  </span></td><td>2174</td><td>0</td><td>40</td><td>United-States</td><td>&lt;=50K</td></tr>\n",
       "\t<tr><td>50</td><td>Self-emp-not-inc</td><td> 83311</td><td>Bachelors</td><td>13</td><td>Married-civ-spouse</td><td><span style=white-space:pre-wrap>Exec-managerial  </span></td><td><span style=white-space:pre-wrap>Husband      </span></td><td>White</td><td><span style=white-space:pre-wrap>Male  </span></td><td><span style=white-space:pre-wrap>   0</span></td><td>0</td><td>13</td><td>United-States</td><td>&lt;=50K</td></tr>\n",
       "\t<tr><td>38</td><td><span style=white-space:pre-wrap>Private         </span></td><td>215646</td><td><span style=white-space:pre-wrap>HS-grad  </span></td><td> 9</td><td><span style=white-space:pre-wrap>Divorced          </span></td><td>Handlers-cleaners</td><td>Not-in-family</td><td>White</td><td><span style=white-space:pre-wrap>Male  </span></td><td><span style=white-space:pre-wrap>   0</span></td><td>0</td><td>40</td><td>United-States</td><td>&lt;=50K</td></tr>\n",
       "\t<tr><td>53</td><td><span style=white-space:pre-wrap>Private         </span></td><td>234721</td><td><span style=white-space:pre-wrap>11th     </span></td><td> 7</td><td>Married-civ-spouse</td><td>Handlers-cleaners</td><td><span style=white-space:pre-wrap>Husband      </span></td><td>Black</td><td><span style=white-space:pre-wrap>Male  </span></td><td><span style=white-space:pre-wrap>   0</span></td><td>0</td><td>40</td><td>United-States</td><td>&lt;=50K</td></tr>\n",
       "\t<tr><td>28</td><td><span style=white-space:pre-wrap>Private         </span></td><td>338409</td><td>Bachelors</td><td>13</td><td>Married-civ-spouse</td><td><span style=white-space:pre-wrap>Prof-specialty   </span></td><td><span style=white-space:pre-wrap>Wife         </span></td><td>Black</td><td>Female</td><td><span style=white-space:pre-wrap>   0</span></td><td>0</td><td>40</td><td><span style=white-space:pre-wrap>Cuba         </span></td><td>&lt;=50K</td></tr>\n",
       "\t<tr><td>37</td><td><span style=white-space:pre-wrap>Private         </span></td><td>284582</td><td><span style=white-space:pre-wrap>Masters  </span></td><td>14</td><td>Married-civ-spouse</td><td><span style=white-space:pre-wrap>Exec-managerial  </span></td><td><span style=white-space:pre-wrap>Wife         </span></td><td>White</td><td>Female</td><td><span style=white-space:pre-wrap>   0</span></td><td>0</td><td>40</td><td>United-States</td><td>&lt;=50K</td></tr>\n",
       "</tbody>\n",
       "</table>\n"
      ],
      "text/latex": [
       "A tibble: 6 × 15\n",
       "\\begin{tabular}{lllllllllllllll}\n",
       " age & workclass & fnlwgt & education & education-num & marital-status & occupation & relationship & race & sex & capital-gain & capital-loss & hours-per-week & native-country & X15\\\\\n",
       " <dbl> & <chr> & <dbl> & <chr> & <dbl> & <chr> & <chr> & <chr> & <chr> & <chr> & <dbl> & <dbl> & <dbl> & <chr> & <chr>\\\\\n",
       "\\hline\n",
       "\t 39 & State-gov        &  77516 & Bachelors & 13 & Never-married      & Adm-clerical      & Not-in-family & White & Male   & 2174 & 0 & 40 & United-States & <=50K\\\\\n",
       "\t 50 & Self-emp-not-inc &  83311 & Bachelors & 13 & Married-civ-spouse & Exec-managerial   & Husband       & White & Male   &    0 & 0 & 13 & United-States & <=50K\\\\\n",
       "\t 38 & Private          & 215646 & HS-grad   &  9 & Divorced           & Handlers-cleaners & Not-in-family & White & Male   &    0 & 0 & 40 & United-States & <=50K\\\\\n",
       "\t 53 & Private          & 234721 & 11th      &  7 & Married-civ-spouse & Handlers-cleaners & Husband       & Black & Male   &    0 & 0 & 40 & United-States & <=50K\\\\\n",
       "\t 28 & Private          & 338409 & Bachelors & 13 & Married-civ-spouse & Prof-specialty    & Wife          & Black & Female &    0 & 0 & 40 & Cuba          & <=50K\\\\\n",
       "\t 37 & Private          & 284582 & Masters   & 14 & Married-civ-spouse & Exec-managerial   & Wife          & White & Female &    0 & 0 & 40 & United-States & <=50K\\\\\n",
       "\\end{tabular}\n"
      ],
      "text/markdown": [
       "\n",
       "A tibble: 6 × 15\n",
       "\n",
       "| age &lt;dbl&gt; | workclass &lt;chr&gt; | fnlwgt &lt;dbl&gt; | education &lt;chr&gt; | education-num &lt;dbl&gt; | marital-status &lt;chr&gt; | occupation &lt;chr&gt; | relationship &lt;chr&gt; | race &lt;chr&gt; | sex &lt;chr&gt; | capital-gain &lt;dbl&gt; | capital-loss &lt;dbl&gt; | hours-per-week &lt;dbl&gt; | native-country &lt;chr&gt; | X15 &lt;chr&gt; |\n",
       "|---|---|---|---|---|---|---|---|---|---|---|---|---|---|---|\n",
       "| 39 | State-gov        |  77516 | Bachelors | 13 | Never-married      | Adm-clerical      | Not-in-family | White | Male   | 2174 | 0 | 40 | United-States | &lt;=50K |\n",
       "| 50 | Self-emp-not-inc |  83311 | Bachelors | 13 | Married-civ-spouse | Exec-managerial   | Husband       | White | Male   |    0 | 0 | 13 | United-States | &lt;=50K |\n",
       "| 38 | Private          | 215646 | HS-grad   |  9 | Divorced           | Handlers-cleaners | Not-in-family | White | Male   |    0 | 0 | 40 | United-States | &lt;=50K |\n",
       "| 53 | Private          | 234721 | 11th      |  7 | Married-civ-spouse | Handlers-cleaners | Husband       | Black | Male   |    0 | 0 | 40 | United-States | &lt;=50K |\n",
       "| 28 | Private          | 338409 | Bachelors | 13 | Married-civ-spouse | Prof-specialty    | Wife          | Black | Female |    0 | 0 | 40 | Cuba          | &lt;=50K |\n",
       "| 37 | Private          | 284582 | Masters   | 14 | Married-civ-spouse | Exec-managerial   | Wife          | White | Female |    0 | 0 | 40 | United-States | &lt;=50K |\n",
       "\n"
      ],
      "text/plain": [
       "  age workclass        fnlwgt education education-num marital-status    \n",
       "1 39  State-gov         77516 Bachelors 13            Never-married     \n",
       "2 50  Self-emp-not-inc  83311 Bachelors 13            Married-civ-spouse\n",
       "3 38  Private          215646 HS-grad    9            Divorced          \n",
       "4 53  Private          234721 11th       7            Married-civ-spouse\n",
       "5 28  Private          338409 Bachelors 13            Married-civ-spouse\n",
       "6 37  Private          284582 Masters   14            Married-civ-spouse\n",
       "  occupation        relationship  race  sex    capital-gain capital-loss\n",
       "1 Adm-clerical      Not-in-family White Male   2174         0           \n",
       "2 Exec-managerial   Husband       White Male      0         0           \n",
       "3 Handlers-cleaners Not-in-family White Male      0         0           \n",
       "4 Handlers-cleaners Husband       Black Male      0         0           \n",
       "5 Prof-specialty    Wife          Black Female    0         0           \n",
       "6 Exec-managerial   Wife          White Female    0         0           \n",
       "  hours-per-week native-country X15  \n",
       "1 40             United-States  <=50K\n",
       "2 13             United-States  <=50K\n",
       "3 40             United-States  <=50K\n",
       "4 40             United-States  <=50K\n",
       "5 40             Cuba           <=50K\n",
       "6 40             United-States  <=50K"
      ]
     },
     "metadata": {},
     "output_type": "display_data"
    }
   ],
   "source": [
    "adult_data_url <- \"https://archive.ics.uci.edu/ml/machine-learning-databases/adult/adult.data\"\n",
    "adult_data_path <- \"adult.csv\"\n",
    "# testing data url \n",
    "adult_test_url <- \"https://archive.ics.uci.edu/ml/machine-learning-databases/adult/adult.test\"\n",
    "download.file(adult_data_url, destfile = adult_data_path)\n",
    "download.file(adult_test_url, destfile = \"adult.test.csv\")\n",
    "adult_data <- read_csv(adult_data_path, col_names = c(\"age\", \"workclass\", \"fnlwgt\", \"education\", \"education-num\", \"marital-status\", \"occupation\", \"relationship\", \"race\", \"sex\", \"capital-gain\", \"capital-loss\", \"hours-per-week\", \"native-country\"))\n",
    "head(adult_data)"
   ]
  },
  {
   "cell_type": "code",
   "execution_count": 58,
   "id": "90d0c39e-6e2b-4683-bdd6-475279b35dc7",
   "metadata": {},
   "outputs": [
    {
     "name": "stdout",
     "output_type": "stream",
     "text": [
      "Rows: 32,561\n",
      "Columns: 15\n",
      "$ age              \u001b[3m\u001b[90m<dbl>\u001b[39m\u001b[23m 39, 50, 38, 53, 28, 37, 49, 52, 31, 42, 37, 30, 23, 3…\n",
      "$ workclass        \u001b[3m\u001b[90m<chr>\u001b[39m\u001b[23m \"State-gov\", \"Self-emp-not-inc\", \"Private\", \"Private\"…\n",
      "$ fnlwgt           \u001b[3m\u001b[90m<dbl>\u001b[39m\u001b[23m 77516, 83311, 215646, 234721, 338409, 284582, 160187,…\n",
      "$ education        \u001b[3m\u001b[90m<chr>\u001b[39m\u001b[23m \"Bachelors\", \"Bachelors\", \"HS-grad\", \"11th\", \"Bachelo…\n",
      "$ `education-num`  \u001b[3m\u001b[90m<dbl>\u001b[39m\u001b[23m 13, 13, 9, 7, 13, 14, 5, 9, 14, 13, 10, 13, 13, 12, 1…\n",
      "$ `marital-status` \u001b[3m\u001b[90m<chr>\u001b[39m\u001b[23m \"Never-married\", \"Married-civ-spouse\", \"Divorced\", \"M…\n",
      "$ occupation       \u001b[3m\u001b[90m<chr>\u001b[39m\u001b[23m \"Adm-clerical\", \"Exec-managerial\", \"Handlers-cleaners…\n",
      "$ relationship     \u001b[3m\u001b[90m<chr>\u001b[39m\u001b[23m \"Not-in-family\", \"Husband\", \"Not-in-family\", \"Husband…\n",
      "$ race             \u001b[3m\u001b[90m<chr>\u001b[39m\u001b[23m \"White\", \"White\", \"White\", \"Black\", \"Black\", \"White\",…\n",
      "$ sex              \u001b[3m\u001b[90m<chr>\u001b[39m\u001b[23m \"Male\", \"Male\", \"Male\", \"Male\", \"Female\", \"Female\", \"…\n",
      "$ `capital-gain`   \u001b[3m\u001b[90m<dbl>\u001b[39m\u001b[23m 2174, 0, 0, 0, 0, 0, 0, 0, 14084, 5178, 0, 0, 0, 0, 0…\n",
      "$ `capital-loss`   \u001b[3m\u001b[90m<dbl>\u001b[39m\u001b[23m 0, 0, 0, 0, 0, 0, 0, 0, 0, 0, 0, 0, 0, 0, 0, 0, 0, 0,…\n",
      "$ `hours-per-week` \u001b[3m\u001b[90m<dbl>\u001b[39m\u001b[23m 40, 13, 40, 40, 40, 40, 16, 45, 50, 40, 80, 40, 30, 5…\n",
      "$ `native-country` \u001b[3m\u001b[90m<chr>\u001b[39m\u001b[23m \"United-States\", \"United-States\", \"United-States\", \"U…\n",
      "$ X15              \u001b[3m\u001b[90m<chr>\u001b[39m\u001b[23m \"<=50K\", \"<=50K\", \"<=50K\", \"<=50K\", \"<=50K\", \"<=50K\",…\n"
     ]
    }
   ],
   "source": [
    "# Start by using \"glimpse\" to view the column names and data pertaining to the columns\n",
    "glimpse(adult_data)"
   ]
  },
  {
   "cell_type": "code",
   "execution_count": 59,
   "id": "c6093265-1cc0-4ac7-aa3d-3db89c9eab50",
   "metadata": {},
   "outputs": [
    {
     "data": {
      "text/html": [
       "0"
      ],
      "text/latex": [
       "0"
      ],
      "text/markdown": [
       "0"
      ],
      "text/plain": [
       "[1] 0"
      ]
     },
     "metadata": {},
     "output_type": "display_data"
    }
   ],
   "source": [
    "# number of NA Values\n",
    "sum(is.na(adult_data))"
   ]
  },
  {
   "cell_type": "code",
   "execution_count": 60,
   "id": "a26d83e9-d8dd-4271-aba5-5ccd4bf4813e",
   "metadata": {},
   "outputs": [],
   "source": [
    "# converting vectors to factors\n",
    "# known factors\n",
    "# - workclass\n",
    "# - education\n",
    "# - marital-status\n",
    "# - occupation\n",
    "# - relationship\n",
    "# - race\n",
    "# - sex\n",
    "# - native-country\n",
    "\n",
    "adult_data <- adult_data |>\n",
    "    rowwise() |>\n",
    "    mutate(workclass = as_factor(workclass),\n",
    "           education = as_factor(education),\n",
    "           marital_status = as_factor(`marital-status`), # changing names for convienience \n",
    "           occupation = as_factor(occupation),\n",
    "           relationship = as_factor(relationship),\n",
    "           race = as_factor(race),\n",
    "           sex = as_factor(sex),\n",
    "           native_country = as_factor(`native-country`)) |>\n",
    "    select(-`marital-status`,-`native-country`)\n"
   ]
  },
  {
   "cell_type": "code",
   "execution_count": 61,
   "id": "d6404400-3190-4000-bc20-a29adb93d5ac",
   "metadata": {},
   "outputs": [
    {
     "data": {
      "text/html": [
       "<table class=\"dataframe\">\n",
       "<caption>A rowwise_df: 2 × 1</caption>\n",
       "<thead>\n",
       "\t<tr><th scope=col>X15</th></tr>\n",
       "\t<tr><th scope=col>&lt;chr&gt;</th></tr>\n",
       "</thead>\n",
       "<tbody>\n",
       "\t<tr><td>&lt;=50K</td></tr>\n",
       "\t<tr><td>&gt;50K </td></tr>\n",
       "</tbody>\n",
       "</table>\n"
      ],
      "text/latex": [
       "A rowwise\\_df: 2 × 1\n",
       "\\begin{tabular}{l}\n",
       " X15\\\\\n",
       " <chr>\\\\\n",
       "\\hline\n",
       "\t <=50K\\\\\n",
       "\t >50K \\\\\n",
       "\\end{tabular}\n"
      ],
      "text/markdown": [
       "\n",
       "A rowwise_df: 2 × 1\n",
       "\n",
       "| X15 &lt;chr&gt; |\n",
       "|---|\n",
       "| &lt;=50K |\n",
       "| &gt;50K  |\n",
       "\n"
      ],
      "text/plain": [
       "  X15  \n",
       "1 <=50K\n",
       "2 >50K "
      ]
     },
     "metadata": {},
     "output_type": "display_data"
    }
   ],
   "source": [
    "adult_data |>\n",
    "    select(X15) |>\n",
    "    unique()"
   ]
  },
  {
   "cell_type": "code",
   "execution_count": 62,
   "id": "fb6273d2-e4f2-44b5-9dd9-07260ba97ca1",
   "metadata": {},
   "outputs": [
    {
     "data": {
      "text/html": [
       "<table class=\"dataframe\">\n",
       "<caption>A rowwise_df: 6 × 15</caption>\n",
       "<thead>\n",
       "\t<tr><th scope=col>age</th><th scope=col>workclass</th><th scope=col>fnlwgt</th><th scope=col>education</th><th scope=col>education-num</th><th scope=col>occupation</th><th scope=col>relationship</th><th scope=col>race</th><th scope=col>sex</th><th scope=col>capital-gain</th><th scope=col>capital-loss</th><th scope=col>hours-per-week</th><th scope=col>marital_status</th><th scope=col>native_country</th><th scope=col>income</th></tr>\n",
       "\t<tr><th scope=col>&lt;dbl&gt;</th><th scope=col>&lt;fct&gt;</th><th scope=col>&lt;dbl&gt;</th><th scope=col>&lt;fct&gt;</th><th scope=col>&lt;dbl&gt;</th><th scope=col>&lt;fct&gt;</th><th scope=col>&lt;fct&gt;</th><th scope=col>&lt;fct&gt;</th><th scope=col>&lt;fct&gt;</th><th scope=col>&lt;dbl&gt;</th><th scope=col>&lt;dbl&gt;</th><th scope=col>&lt;dbl&gt;</th><th scope=col>&lt;fct&gt;</th><th scope=col>&lt;fct&gt;</th><th scope=col>&lt;fct&gt;</th></tr>\n",
       "</thead>\n",
       "<tbody>\n",
       "\t<tr><td>39</td><td><span style=white-space:pre-wrap>State-gov       </span></td><td> 77516</td><td>Bachelors</td><td>13</td><td><span style=white-space:pre-wrap>Adm-clerical     </span></td><td>Not-in-family</td><td>White</td><td><span style=white-space:pre-wrap>Male  </span></td><td>2174</td><td>0</td><td>40</td><td><span style=white-space:pre-wrap>Never-married     </span></td><td>United-States</td><td>&lt;=50K</td></tr>\n",
       "\t<tr><td>50</td><td>Self-emp-not-inc</td><td> 83311</td><td>Bachelors</td><td>13</td><td><span style=white-space:pre-wrap>Exec-managerial  </span></td><td><span style=white-space:pre-wrap>Husband      </span></td><td>White</td><td><span style=white-space:pre-wrap>Male  </span></td><td><span style=white-space:pre-wrap>   0</span></td><td>0</td><td>13</td><td>Married-civ-spouse</td><td>United-States</td><td>&lt;=50K</td></tr>\n",
       "\t<tr><td>38</td><td><span style=white-space:pre-wrap>Private         </span></td><td>215646</td><td><span style=white-space:pre-wrap>HS-grad  </span></td><td> 9</td><td>Handlers-cleaners</td><td>Not-in-family</td><td>White</td><td><span style=white-space:pre-wrap>Male  </span></td><td><span style=white-space:pre-wrap>   0</span></td><td>0</td><td>40</td><td><span style=white-space:pre-wrap>Divorced          </span></td><td>United-States</td><td>&lt;=50K</td></tr>\n",
       "\t<tr><td>53</td><td><span style=white-space:pre-wrap>Private         </span></td><td>234721</td><td><span style=white-space:pre-wrap>11th     </span></td><td> 7</td><td>Handlers-cleaners</td><td><span style=white-space:pre-wrap>Husband      </span></td><td>Black</td><td><span style=white-space:pre-wrap>Male  </span></td><td><span style=white-space:pre-wrap>   0</span></td><td>0</td><td>40</td><td>Married-civ-spouse</td><td>United-States</td><td>&lt;=50K</td></tr>\n",
       "\t<tr><td>28</td><td><span style=white-space:pre-wrap>Private         </span></td><td>338409</td><td>Bachelors</td><td>13</td><td><span style=white-space:pre-wrap>Prof-specialty   </span></td><td><span style=white-space:pre-wrap>Wife         </span></td><td>Black</td><td>Female</td><td><span style=white-space:pre-wrap>   0</span></td><td>0</td><td>40</td><td>Married-civ-spouse</td><td><span style=white-space:pre-wrap>Cuba         </span></td><td>&lt;=50K</td></tr>\n",
       "\t<tr><td>37</td><td><span style=white-space:pre-wrap>Private         </span></td><td>284582</td><td><span style=white-space:pre-wrap>Masters  </span></td><td>14</td><td><span style=white-space:pre-wrap>Exec-managerial  </span></td><td><span style=white-space:pre-wrap>Wife         </span></td><td>White</td><td>Female</td><td><span style=white-space:pre-wrap>   0</span></td><td>0</td><td>40</td><td>Married-civ-spouse</td><td>United-States</td><td>&lt;=50K</td></tr>\n",
       "</tbody>\n",
       "</table>\n"
      ],
      "text/latex": [
       "A rowwise\\_df: 6 × 15\n",
       "\\begin{tabular}{lllllllllllllll}\n",
       " age & workclass & fnlwgt & education & education-num & occupation & relationship & race & sex & capital-gain & capital-loss & hours-per-week & marital\\_status & native\\_country & income\\\\\n",
       " <dbl> & <fct> & <dbl> & <fct> & <dbl> & <fct> & <fct> & <fct> & <fct> & <dbl> & <dbl> & <dbl> & <fct> & <fct> & <fct>\\\\\n",
       "\\hline\n",
       "\t 39 & State-gov        &  77516 & Bachelors & 13 & Adm-clerical      & Not-in-family & White & Male   & 2174 & 0 & 40 & Never-married      & United-States & <=50K\\\\\n",
       "\t 50 & Self-emp-not-inc &  83311 & Bachelors & 13 & Exec-managerial   & Husband       & White & Male   &    0 & 0 & 13 & Married-civ-spouse & United-States & <=50K\\\\\n",
       "\t 38 & Private          & 215646 & HS-grad   &  9 & Handlers-cleaners & Not-in-family & White & Male   &    0 & 0 & 40 & Divorced           & United-States & <=50K\\\\\n",
       "\t 53 & Private          & 234721 & 11th      &  7 & Handlers-cleaners & Husband       & Black & Male   &    0 & 0 & 40 & Married-civ-spouse & United-States & <=50K\\\\\n",
       "\t 28 & Private          & 338409 & Bachelors & 13 & Prof-specialty    & Wife          & Black & Female &    0 & 0 & 40 & Married-civ-spouse & Cuba          & <=50K\\\\\n",
       "\t 37 & Private          & 284582 & Masters   & 14 & Exec-managerial   & Wife          & White & Female &    0 & 0 & 40 & Married-civ-spouse & United-States & <=50K\\\\\n",
       "\\end{tabular}\n"
      ],
      "text/markdown": [
       "\n",
       "A rowwise_df: 6 × 15\n",
       "\n",
       "| age &lt;dbl&gt; | workclass &lt;fct&gt; | fnlwgt &lt;dbl&gt; | education &lt;fct&gt; | education-num &lt;dbl&gt; | occupation &lt;fct&gt; | relationship &lt;fct&gt; | race &lt;fct&gt; | sex &lt;fct&gt; | capital-gain &lt;dbl&gt; | capital-loss &lt;dbl&gt; | hours-per-week &lt;dbl&gt; | marital_status &lt;fct&gt; | native_country &lt;fct&gt; | income &lt;fct&gt; |\n",
       "|---|---|---|---|---|---|---|---|---|---|---|---|---|---|---|\n",
       "| 39 | State-gov        |  77516 | Bachelors | 13 | Adm-clerical      | Not-in-family | White | Male   | 2174 | 0 | 40 | Never-married      | United-States | &lt;=50K |\n",
       "| 50 | Self-emp-not-inc |  83311 | Bachelors | 13 | Exec-managerial   | Husband       | White | Male   |    0 | 0 | 13 | Married-civ-spouse | United-States | &lt;=50K |\n",
       "| 38 | Private          | 215646 | HS-grad   |  9 | Handlers-cleaners | Not-in-family | White | Male   |    0 | 0 | 40 | Divorced           | United-States | &lt;=50K |\n",
       "| 53 | Private          | 234721 | 11th      |  7 | Handlers-cleaners | Husband       | Black | Male   |    0 | 0 | 40 | Married-civ-spouse | United-States | &lt;=50K |\n",
       "| 28 | Private          | 338409 | Bachelors | 13 | Prof-specialty    | Wife          | Black | Female |    0 | 0 | 40 | Married-civ-spouse | Cuba          | &lt;=50K |\n",
       "| 37 | Private          | 284582 | Masters   | 14 | Exec-managerial   | Wife          | White | Female |    0 | 0 | 40 | Married-civ-spouse | United-States | &lt;=50K |\n",
       "\n"
      ],
      "text/plain": [
       "  age workclass        fnlwgt education education-num occupation       \n",
       "1 39  State-gov         77516 Bachelors 13            Adm-clerical     \n",
       "2 50  Self-emp-not-inc  83311 Bachelors 13            Exec-managerial  \n",
       "3 38  Private          215646 HS-grad    9            Handlers-cleaners\n",
       "4 53  Private          234721 11th       7            Handlers-cleaners\n",
       "5 28  Private          338409 Bachelors 13            Prof-specialty   \n",
       "6 37  Private          284582 Masters   14            Exec-managerial  \n",
       "  relationship  race  sex    capital-gain capital-loss hours-per-week\n",
       "1 Not-in-family White Male   2174         0            40            \n",
       "2 Husband       White Male      0         0            13            \n",
       "3 Not-in-family White Male      0         0            40            \n",
       "4 Husband       Black Male      0         0            40            \n",
       "5 Wife          Black Female    0         0            40            \n",
       "6 Wife          White Female    0         0            40            \n",
       "  marital_status     native_country income\n",
       "1 Never-married      United-States  <=50K \n",
       "2 Married-civ-spouse United-States  <=50K \n",
       "3 Divorced           United-States  <=50K \n",
       "4 Married-civ-spouse United-States  <=50K \n",
       "5 Married-civ-spouse Cuba           <=50K \n",
       "6 Married-civ-spouse United-States  <=50K "
      ]
     },
     "metadata": {},
     "output_type": "display_data"
    }
   ],
   "source": [
    "# there are only two values in this column we can make this a factor as well\n",
    "# this column is how we will do binary classification\n",
    "adult_data <- adult_data |>\n",
    "    mutate(income=as_factor(X15)) |>\n",
    "    select(-X15)\n",
    "head(adult_data)"
   ]
  },
  {
   "cell_type": "code",
   "execution_count": 80,
   "id": "20638288-c374-4cc3-8365-b09c91c42415",
   "metadata": {},
   "outputs": [
    {
     "data": {
      "text/html": [
       "<table class=\"dataframe\">\n",
       "<caption>A tibble: 2 × 3</caption>\n",
       "<thead>\n",
       "\t<tr><th scope=col>income</th><th scope=col>count</th><th scope=col>percentage</th></tr>\n",
       "\t<tr><th scope=col>&lt;fct&gt;</th><th scope=col>&lt;int&gt;</th><th scope=col>&lt;dbl&gt;</th></tr>\n",
       "</thead>\n",
       "<tbody>\n",
       "\t<tr><td>&lt;=50K</td><td>24720</td><td>75.91904</td></tr>\n",
       "\t<tr><td>&gt;50K </td><td> 7841</td><td>24.08096</td></tr>\n",
       "</tbody>\n",
       "</table>\n"
      ],
      "text/latex": [
       "A tibble: 2 × 3\n",
       "\\begin{tabular}{lll}\n",
       " income & count & percentage\\\\\n",
       " <fct> & <int> & <dbl>\\\\\n",
       "\\hline\n",
       "\t <=50K & 24720 & 75.91904\\\\\n",
       "\t >50K  &  7841 & 24.08096\\\\\n",
       "\\end{tabular}\n"
      ],
      "text/markdown": [
       "\n",
       "A tibble: 2 × 3\n",
       "\n",
       "| income &lt;fct&gt; | count &lt;int&gt; | percentage &lt;dbl&gt; |\n",
       "|---|---|---|\n",
       "| &lt;=50K | 24720 | 75.91904 |\n",
       "| &gt;50K  |  7841 | 24.08096 |\n",
       "\n"
      ],
      "text/plain": [
       "  income count percentage\n",
       "1 <=50K  24720 75.91904  \n",
       "2 >50K    7841 24.08096  "
      ]
     },
     "metadata": {},
     "output_type": "display_data"
    },
    {
     "data": {
      "text/html": [
       "38.5816467553208"
      ],
      "text/latex": [
       "38.5816467553208"
      ],
      "text/markdown": [
       "38.5816467553208"
      ],
      "text/plain": [
       "[1] 38.58165"
      ]
     },
     "metadata": {},
     "output_type": "display_data"
    },
    {
     "data": {
      "text/html": [
       "37"
      ],
      "text/latex": [
       "37"
      ],
      "text/markdown": [
       "37"
      ],
      "text/plain": [
       "[1] 37"
      ]
     },
     "metadata": {},
     "output_type": "display_data"
    },
    {
     "data": {
      "text/html": [
       "<table class=\"dataframe\">\n",
       "<caption>A tibble: 6 × 3</caption>\n",
       "<thead>\n",
       "\t<tr><th scope=col>native_country</th><th scope=col>count</th><th scope=col>percentage</th></tr>\n",
       "\t<tr><th scope=col>&lt;fct&gt;</th><th scope=col>&lt;int&gt;</th><th scope=col>&lt;dbl&gt;</th></tr>\n",
       "</thead>\n",
       "<tbody>\n",
       "\t<tr><td>United-States</td><td>29170</td><td>89.5857007</td></tr>\n",
       "\t<tr><td>Mexico       </td><td>  643</td><td> 1.9747551</td></tr>\n",
       "\t<tr><td>?            </td><td>  583</td><td> 1.7904856</td></tr>\n",
       "\t<tr><td>Philippines  </td><td>  198</td><td> 0.6080894</td></tr>\n",
       "\t<tr><td>Germany      </td><td>  137</td><td> 0.4207487</td></tr>\n",
       "\t<tr><td>Canada       </td><td>  121</td><td> 0.3716102</td></tr>\n",
       "</tbody>\n",
       "</table>\n"
      ],
      "text/latex": [
       "A tibble: 6 × 3\n",
       "\\begin{tabular}{lll}\n",
       " native\\_country & count & percentage\\\\\n",
       " <fct> & <int> & <dbl>\\\\\n",
       "\\hline\n",
       "\t United-States & 29170 & 89.5857007\\\\\n",
       "\t Mexico        &   643 &  1.9747551\\\\\n",
       "\t ?             &   583 &  1.7904856\\\\\n",
       "\t Philippines   &   198 &  0.6080894\\\\\n",
       "\t Germany       &   137 &  0.4207487\\\\\n",
       "\t Canada        &   121 &  0.3716102\\\\\n",
       "\\end{tabular}\n"
      ],
      "text/markdown": [
       "\n",
       "A tibble: 6 × 3\n",
       "\n",
       "| native_country &lt;fct&gt; | count &lt;int&gt; | percentage &lt;dbl&gt; |\n",
       "|---|---|---|\n",
       "| United-States | 29170 | 89.5857007 |\n",
       "| Mexico        |   643 |  1.9747551 |\n",
       "| ?             |   583 |  1.7904856 |\n",
       "| Philippines   |   198 |  0.6080894 |\n",
       "| Germany       |   137 |  0.4207487 |\n",
       "| Canada        |   121 |  0.3716102 |\n",
       "\n"
      ],
      "text/plain": [
       "  native_country count percentage\n",
       "1 United-States  29170 89.5857007\n",
       "2 Mexico           643  1.9747551\n",
       "3 ?                583  1.7904856\n",
       "4 Philippines      198  0.6080894\n",
       "5 Germany          137  0.4207487\n",
       "6 Canada           121  0.3716102"
      ]
     },
     "metadata": {},
     "output_type": "display_data"
    },
    {
     "data": {
      "text/html": [
       "<table class=\"dataframe\">\n",
       "<caption>A tibble: 6 × 3</caption>\n",
       "<thead>\n",
       "\t<tr><th scope=col>native_country</th><th scope=col>count</th><th scope=col>percentage</th></tr>\n",
       "\t<tr><th scope=col>&lt;fct&gt;</th><th scope=col>&lt;int&gt;</th><th scope=col>&lt;dbl&gt;</th></tr>\n",
       "</thead>\n",
       "<tbody>\n",
       "\t<tr><td>United-States</td><td>7171</td><td>91.4551715</td></tr>\n",
       "\t<tr><td>?            </td><td> 146</td><td> 1.8620074</td></tr>\n",
       "\t<tr><td>Philippines  </td><td>  61</td><td> 0.7779620</td></tr>\n",
       "\t<tr><td>Germany      </td><td>  44</td><td> 0.5611529</td></tr>\n",
       "\t<tr><td>India        </td><td>  40</td><td> 0.5101390</td></tr>\n",
       "\t<tr><td>Canada       </td><td>  39</td><td> 0.4973855</td></tr>\n",
       "</tbody>\n",
       "</table>\n"
      ],
      "text/latex": [
       "A tibble: 6 × 3\n",
       "\\begin{tabular}{lll}\n",
       " native\\_country & count & percentage\\\\\n",
       " <fct> & <int> & <dbl>\\\\\n",
       "\\hline\n",
       "\t United-States & 7171 & 91.4551715\\\\\n",
       "\t ?             &  146 &  1.8620074\\\\\n",
       "\t Philippines   &   61 &  0.7779620\\\\\n",
       "\t Germany       &   44 &  0.5611529\\\\\n",
       "\t India         &   40 &  0.5101390\\\\\n",
       "\t Canada        &   39 &  0.4973855\\\\\n",
       "\\end{tabular}\n"
      ],
      "text/markdown": [
       "\n",
       "A tibble: 6 × 3\n",
       "\n",
       "| native_country &lt;fct&gt; | count &lt;int&gt; | percentage &lt;dbl&gt; |\n",
       "|---|---|---|\n",
       "| United-States | 7171 | 91.4551715 |\n",
       "| ?             |  146 |  1.8620074 |\n",
       "| Philippines   |   61 |  0.7779620 |\n",
       "| Germany       |   44 |  0.5611529 |\n",
       "| India         |   40 |  0.5101390 |\n",
       "| Canada        |   39 |  0.4973855 |\n",
       "\n"
      ],
      "text/plain": [
       "  native_country count percentage\n",
       "1 United-States  7171  91.4551715\n",
       "2 ?               146   1.8620074\n",
       "3 Philippines      61   0.7779620\n",
       "4 Germany          44   0.5611529\n",
       "5 India            40   0.5101390\n",
       "6 Canada           39   0.4973855"
      ]
     },
     "metadata": {},
     "output_type": "display_data"
    },
    {
     "data": {
      "text/html": [
       "<table class=\"dataframe\">\n",
       "<caption>A tibble: 2 × 3</caption>\n",
       "<thead>\n",
       "\t<tr><th scope=col>income</th><th scope=col>count</th><th scope=col>percentage</th></tr>\n",
       "\t<tr><th scope=col>&lt;fct&gt;</th><th scope=col>&lt;int&gt;</th><th scope=col>&lt;dbl&gt;</th></tr>\n",
       "</thead>\n",
       "<tbody>\n",
       "\t<tr><td>&lt;=50K</td><td>21999</td><td>67.56242</td></tr>\n",
       "\t<tr><td>&gt;50K </td><td> 7171</td><td>22.02328</td></tr>\n",
       "</tbody>\n",
       "</table>\n"
      ],
      "text/latex": [
       "A tibble: 2 × 3\n",
       "\\begin{tabular}{lll}\n",
       " income & count & percentage\\\\\n",
       " <fct> & <int> & <dbl>\\\\\n",
       "\\hline\n",
       "\t <=50K & 21999 & 67.56242\\\\\n",
       "\t >50K  &  7171 & 22.02328\\\\\n",
       "\\end{tabular}\n"
      ],
      "text/markdown": [
       "\n",
       "A tibble: 2 × 3\n",
       "\n",
       "| income &lt;fct&gt; | count &lt;int&gt; | percentage &lt;dbl&gt; |\n",
       "|---|---|---|\n",
       "| &lt;=50K | 21999 | 67.56242 |\n",
       "| &gt;50K  |  7171 | 22.02328 |\n",
       "\n"
      ],
      "text/plain": [
       "  income count percentage\n",
       "1 <=50K  21999 67.56242  \n",
       "2 >50K    7171 22.02328  "
      ]
     },
     "metadata": {},
     "output_type": "display_data"
    }
   ],
   "source": [
    "# lets see our predictor class distribution\n",
    "adult_data |>\n",
    "    group_by(income) |>\n",
    "    summarize(\n",
    "        count = n(),\n",
    "        percentage = n() / nrow(adult_data) * 100,\n",
    "        ) |>\n",
    "    arrange(desc(percentage))\n",
    "\n",
    "# lets see the age distribution\n",
    "mean(adult_data$age, na.RM=TRUE)\n",
    "median(adult_data$age, na.RM=TRUE)\n",
    "\n",
    "# lets see the native-country distribution\n",
    "adult_data |>\n",
    "    group_by(native_country) |>\n",
    "    summarize(\n",
    "        count = n(),\n",
    "        percentage = n() / nrow(adult_data) * 100,\n",
    "        ) |>\n",
    "    arrange(desc(percentage)) |>\n",
    "    head()\n",
    "\n",
    "adult_data_above50k <- filter(adult_data, income==\">50K\")\n",
    "\n",
    "# distribution of countries in the data with income above 50k\n",
    "adult_data_above50k |>\n",
    "    group_by(native_country) |>\n",
    "    summarize(\n",
    "        count = n(),\n",
    "        percentage = n() / nrow(adult_data_above50k) * 100,\n",
    "        ) |>\n",
    "    arrange(desc(percentage)) |>\n",
    "    head()\n",
    "\n",
    "# distribution of income in the data from united-states\n",
    "adult_data |>\n",
    "    filter(native_country==\"United-States\") |>\n",
    "    group_by(income) |>\n",
    "    summarize(\n",
    "        count = n(),\n",
    "        percentage = n() / nrow(adult_data) * 100,\n",
    "        ) |>\n",
    "    arrange(desc(percentage))\n",
    "# maximum data is from United-states"
   ]
  },
  {
   "cell_type": "markdown",
   "id": "c01bea81-ea9d-4d11-8ffb-a05abb0b348b",
   "metadata": {},
   "source": [
    "we can see that we have way more data for less than 50k prediction than \n",
    "\n",
    "\n",
    "we can see that the age distribution is pretty similar, we have data that is distributed almost equally over 20-50...\n",
    "\n",
    "the data distribution of native_country is not at all equal, most recorded data is from United-States... this also means that using native_country as a predictor class would not be usefull since most of our data is from United-States\n",
    "\n",
    "and from the third table we see that for the class above 50k 91% of the data is from United-States...  but also looking at the fourth table we see that the distribution of the two classes (>50k and <=50k) amongst United-States is similar to the whole Data set, **hence native_country is not a usefull variable**\n",
    "\n"
   ]
  },
  {
   "cell_type": "code",
   "execution_count": 83,
   "id": "b3903eea-562b-4efd-8e3c-16919db27394",
   "metadata": {},
   "outputs": [
    {
     "data": {
      "text/html": [
       "<table class=\"dataframe\">\n",
       "<caption>A tibble: 2 × 3</caption>\n",
       "<thead>\n",
       "\t<tr><th scope=col>sex</th><th scope=col>count</th><th scope=col>percentage</th></tr>\n",
       "\t<tr><th scope=col>&lt;fct&gt;</th><th scope=col>&lt;int&gt;</th><th scope=col>&lt;dbl&gt;</th></tr>\n",
       "</thead>\n",
       "<tbody>\n",
       "\t<tr><td>Male  </td><td>21790</td><td>66.92055</td></tr>\n",
       "\t<tr><td>Female</td><td>10771</td><td>33.07945</td></tr>\n",
       "</tbody>\n",
       "</table>\n"
      ],
      "text/latex": [
       "A tibble: 2 × 3\n",
       "\\begin{tabular}{lll}\n",
       " sex & count & percentage\\\\\n",
       " <fct> & <int> & <dbl>\\\\\n",
       "\\hline\n",
       "\t Male   & 21790 & 66.92055\\\\\n",
       "\t Female & 10771 & 33.07945\\\\\n",
       "\\end{tabular}\n"
      ],
      "text/markdown": [
       "\n",
       "A tibble: 2 × 3\n",
       "\n",
       "| sex &lt;fct&gt; | count &lt;int&gt; | percentage &lt;dbl&gt; |\n",
       "|---|---|---|\n",
       "| Male   | 21790 | 66.92055 |\n",
       "| Female | 10771 | 33.07945 |\n",
       "\n"
      ],
      "text/plain": [
       "  sex    count percentage\n",
       "1 Male   21790 66.92055  \n",
       "2 Female 10771 33.07945  "
      ]
     },
     "metadata": {},
     "output_type": "display_data"
    },
    {
     "name": "stderr",
     "output_type": "stream",
     "text": [
      "\u001b[1m\u001b[22m`summarise()` has grouped output by 'sex'. You can override using the `.groups`\n",
      "argument.\n"
     ]
    },
    {
     "data": {
      "text/html": [
       "<table class=\"dataframe\">\n",
       "<caption>A grouped_df: 4 × 4</caption>\n",
       "<thead>\n",
       "\t<tr><th scope=col>sex</th><th scope=col>income</th><th scope=col>count</th><th scope=col>percentage</th></tr>\n",
       "\t<tr><th scope=col>&lt;fct&gt;</th><th scope=col>&lt;fct&gt;</th><th scope=col>&lt;int&gt;</th><th scope=col>&lt;dbl&gt;</th></tr>\n",
       "</thead>\n",
       "<tbody>\n",
       "\t<tr><td><span style=white-space:pre-wrap>Male  </span></td><td>&lt;=50K</td><td>15128</td><td>46.460490</td></tr>\n",
       "\t<tr><td>Female</td><td>&lt;=50K</td><td> 9592</td><td>29.458555</td></tr>\n",
       "\t<tr><td><span style=white-space:pre-wrap>Male  </span></td><td>&gt;50K </td><td> 6662</td><td>20.460060</td></tr>\n",
       "\t<tr><td>Female</td><td>&gt;50K </td><td> 1179</td><td> 3.620896</td></tr>\n",
       "</tbody>\n",
       "</table>\n"
      ],
      "text/latex": [
       "A grouped\\_df: 4 × 4\n",
       "\\begin{tabular}{llll}\n",
       " sex & income & count & percentage\\\\\n",
       " <fct> & <fct> & <int> & <dbl>\\\\\n",
       "\\hline\n",
       "\t Male   & <=50K & 15128 & 46.460490\\\\\n",
       "\t Female & <=50K &  9592 & 29.458555\\\\\n",
       "\t Male   & >50K  &  6662 & 20.460060\\\\\n",
       "\t Female & >50K  &  1179 &  3.620896\\\\\n",
       "\\end{tabular}\n"
      ],
      "text/markdown": [
       "\n",
       "A grouped_df: 4 × 4\n",
       "\n",
       "| sex &lt;fct&gt; | income &lt;fct&gt; | count &lt;int&gt; | percentage &lt;dbl&gt; |\n",
       "|---|---|---|---|\n",
       "| Male   | &lt;=50K | 15128 | 46.460490 |\n",
       "| Female | &lt;=50K |  9592 | 29.458555 |\n",
       "| Male   | &gt;50K  |  6662 | 20.460060 |\n",
       "| Female | &gt;50K  |  1179 |  3.620896 |\n",
       "\n"
      ],
      "text/plain": [
       "  sex    income count percentage\n",
       "1 Male   <=50K  15128 46.460490 \n",
       "2 Female <=50K   9592 29.458555 \n",
       "3 Male   >50K    6662 20.460060 \n",
       "4 Female >50K    1179  3.620896 "
      ]
     },
     "metadata": {},
     "output_type": "display_data"
    }
   ],
   "source": [
    "adult_data |>\n",
    "    group_by(sex) |>\n",
    "    summarize(\n",
    "        count = n(),\n",
    "        percentage = n() / nrow(adult_data) * 100,\n",
    "        ) |>\n",
    "    arrange(desc(percentage))\n",
    "\n",
    "adult_data |>\n",
    "    group_by(sex, income) |>\n",
    "    summarize(\n",
    "        count = n(),\n",
    "        percentage = n() / nrow(adult_data) * 100,\n",
    "        ) |>\n",
    "    arrange(desc(percentage))"
   ]
  },
  {
   "cell_type": "markdown",
   "id": "226673e4-3713-4c9e-8804-aca844f8860a",
   "metadata": {},
   "source": [
    "Using these tables we notice that the distribution of the sex variable seems usable as a predictor variable, as the ratios are normal \n",
    "\n",
    "\n",
    "Till now the variables that are usable for classification are :-\n",
    " - sex\n",
    " - age\n",
    " - hours-per-week\n",
    " - race\n",
    " - occupation\n",
    " - education\n",
    " - workclass\n",
    " - education-num"
   ]
  },
  {
   "cell_type": "code",
   "execution_count": 93,
   "id": "1b62542b-c61b-4acd-8f17-6b02ded83342",
   "metadata": {},
   "outputs": [
    {
     "data": {
      "image/png": "[encoded data removed]",
      "text/plain": [
       "plot without title"
      ]
     },
     "metadata": {
      "image/png": {
       "height": 420,
       "width": 420
      }
     },
     "output_type": "display_data"
    },
    {
     "data": {
      "image/png": "[encoded data removed]",
      "text/plain": [
       "plot without title"
      ]
     },
     "metadata": {
      "image/png": {
       "height": 420,
       "width": 420
      }
     },
     "output_type": "display_data"
    }
   ],
   "source": [
    "ggplot(adult_data, aes(x=`age`, y=`education-num`, color=income, shape=sex)) +\n",
    "    geom_point()\n",
    "\n",
    "adult_data_ed_plot <- adult_data |>\n",
    "    mutate(n = 1)\n",
    "\n",
    "ggplot(adult_data_ed_plot, aes(x=n, y=`education`, fill=income, shape=sex)) +\n",
    "    geom_bar(stat=\"identity\") +\n",
    "    labs(x=\"number of rows with education\")\n",
    "\n"
   ]
  },
  {
   "cell_type": "markdown",
   "id": "5606438c-a4d7-4e92-985c-a9a8dff050fe",
   "metadata": {},
   "source": [
    "From the above graphs we can see that in the middle age ranges we find the most records with >50k Income...\n",
    "\n",
    "and as the education-num increases the income class as well...\n",
    "\n",
    "education and education-num are very similar variables from their distribution, so we can use education-num as a factor instead of education"
   ]
  },
  {
   "cell_type": "markdown",
   "id": "b91b731c-102b-43fd-befa-bce8dd3a599b",
   "metadata": {},
   "source": [
    "## Methods\n"
   ]
  },
  {
   "cell_type": "code",
   "execution_count": null,
   "id": "5908d3ef-a365-4631-a58f-896c1d7614c1",
   "metadata": {},
   "outputs": [],
   "source": []
  },
  {
   "cell_type": "markdown",
   "id": "a21924ef-c3e9-4efe-bcfc-a9532aa53828",
   "metadata": {},
   "source": [
    "## Expected outcomes and significance"
   ]
  },
  {
   "cell_type": "code",
   "execution_count": null,
   "id": "81f402b4-ac71-45cc-90f9-cdaf95dffacf",
   "metadata": {},
   "outputs": [],
   "source": []
  },
  {
   "cell_type": "code",
   "execution_count": null,
   "id": "41e3357b-70b9-4a61-a807-1fc08c030f47",
   "metadata": {},
   "outputs": [],
   "source": []
  }
 ],
 "metadata": {
  "kernelspec": {
   "display_name": "R",
   "language": "R",
   "name": "ir"
  },
  "language_info": {
   "codemirror_mode": "r",
   "file_extension": ".r",
   "mimetype": "text/x-r-source",
   "name": "R",
   "pygments_lexer": "r",
   "version": "4.1.3"
  }
 },
 "nbformat": 4,
 "nbformat_minor": 5
}
