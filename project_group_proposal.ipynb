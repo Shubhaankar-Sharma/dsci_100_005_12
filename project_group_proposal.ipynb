{
 "cells": [
  {
   "cell_type": "markdown",
   "id": "8242107f-19bd-43a6-8225-17c21ad16629",
   "metadata": {},
   "source": [
    "# Title\n",
    "\n",
    "\n",
    "## Introduction\n",
    "\n",
    "---\n",
    "\n",
    "intro text here\n",
    "\n",
    "---\n",
    "\n",
    "--\n",
    "\n",
    "**Question we're asking**\n",
    "\n",
    "--"
   ]
  },
  {
   "cell_type": "markdown",
   "id": "d5fd3977-8f8b-4633-bc20-5d15335302c2",
   "metadata": {},
   "source": [
    "## Loading and Merging the data"
   ]
  },
  {
   "cell_type": "code",
   "execution_count": 1,
   "id": "8ac2e853-6335-4de0-b8b9-cb4b79cb6cdb",
   "metadata": {},
   "outputs": [
    {
     "name": "stderr",
     "output_type": "stream",
     "text": [
      "── \u001b[1mAttaching packages\u001b[22m ─────────────────────────────────────── tidyverse 1.3.1 ──\n",
      "\n",
      "\u001b[32m✔\u001b[39m \u001b[34mggplot2\u001b[39m 3.3.6     \u001b[32m✔\u001b[39m \u001b[34mpurrr  \u001b[39m 0.3.4\n",
      "\u001b[32m✔\u001b[39m \u001b[34mtibble \u001b[39m 3.1.7     \u001b[32m✔\u001b[39m \u001b[34mdplyr  \u001b[39m 1.0.9\n",
      "\u001b[32m✔\u001b[39m \u001b[34mtidyr  \u001b[39m 1.2.0     \u001b[32m✔\u001b[39m \u001b[34mstringr\u001b[39m 1.4.0\n",
      "\u001b[32m✔\u001b[39m \u001b[34mreadr  \u001b[39m 2.1.2     \u001b[32m✔\u001b[39m \u001b[34mforcats\u001b[39m 0.5.1\n",
      "\n",
      "── \u001b[1mConflicts\u001b[22m ────────────────────────────────────────── tidyverse_conflicts() ──\n",
      "\u001b[31m✖\u001b[39m \u001b[34mdplyr\u001b[39m::\u001b[32mfilter()\u001b[39m masks \u001b[34mstats\u001b[39m::filter()\n",
      "\u001b[31m✖\u001b[39m \u001b[34mdplyr\u001b[39m::\u001b[32mlag()\u001b[39m    masks \u001b[34mstats\u001b[39m::lag()\n",
      "\n"
     ]
    }
   ],
   "source": [
    "library(tidyverse)"
   ]
  },
  {
   "cell_type": "markdown",
   "id": "b91b731c-102b-43fd-befa-bce8dd3a599b",
   "metadata": {},
   "source": [
    "## Methods\n"
   ]
  },
  {
   "cell_type": "code",
   "execution_count": null,
   "id": "301bcffa-b2f7-4cba-a01a-2c478badd4bc",
   "metadata": {},
   "outputs": [],
   "source": []
  },
  {
   "cell_type": "markdown",
   "id": "a21924ef-c3e9-4efe-bcfc-a9532aa53828",
   "metadata": {},
   "source": [
    "## Expected outcomes and significance"
   ]
  },
  {
   "cell_type": "code",
   "execution_count": null,
   "id": "81f402b4-ac71-45cc-90f9-cdaf95dffacf",
   "metadata": {},
   "outputs": [],
   "source": []
  }
 ],
 "metadata": {
  "kernelspec": {
   "display_name": "R",
   "language": "R",
   "name": "ir"
  },
  "language_info": {
   "codemirror_mode": "r",
   "file_extension": ".r",
   "mimetype": "text/x-r-source",
   "name": "R",
   "pygments_lexer": "r",
   "version": "4.1.3"
  }
 },
 "nbformat": 4,
 "nbformat_minor": 5
}
